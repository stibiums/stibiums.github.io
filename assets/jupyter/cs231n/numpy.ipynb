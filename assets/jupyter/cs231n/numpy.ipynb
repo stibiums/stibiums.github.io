{
 "cells": [
  {
   "cell_type": "markdown",
   "id": "9638bd95-a3d6-4bf9-9e0d-e1295f39e1e1",
   "metadata": {},
   "source": [
    "### Arrays"
   ]
  },
  {
   "cell_type": "markdown",
   "id": "31a1eacc-8432-4714-a52d-88091f22986e",
   "metadata": {},
   "source": [
    "arrays是numpy中的数组类型，某一个arrays中的所有元素的数据类型必须是相同的\n",
    "\n",
    "arrays的索引和常见的数组类似\n",
    "\n",
    "arrays还有维数dimensions和形状shape的概念，dimensions是嵌套的层数，shape则是一个整数元组表示每一个dimension的size"
   ]
  },
  {
   "cell_type": "code",
   "execution_count": 1,
   "id": "09305ebe-e584-4966-8e0c-55bb4932a132",
   "metadata": {},
   "outputs": [],
   "source": [
    "import numpy as np # 导入numpy"
   ]
  },
  {
   "cell_type": "markdown",
   "id": "21d35100",
   "metadata": {},
   "source": [
    "#### **一些创建arrays的方式**\n",
    "- 由数组创建\n",
    "- `np.zeros`和`np.ones`创建指定形状全0或全1 arrays\n",
    "- `np.full`创建指定形状的用某个数填充的arrays\n",
    "- `np.eye`创建n维的单位矩阵\n",
    "- `np.random.random`随机数矩阵"
   ]
  },
  {
   "cell_type": "code",
   "execution_count": 2,
   "id": "2fb3af32-a13e-4dc9-aa19-e7cb5525835b",
   "metadata": {},
   "outputs": [
    {
     "name": "stdout",
     "output_type": "stream",
     "text": [
      "[[0. 0.]\n",
      " [0. 0.]]\n"
     ]
    }
   ],
   "source": [
    "a = np.zeros((2,2))  # Create an array of all zeros\n",
    "print(a)"
   ]
  },
  {
   "cell_type": "code",
   "execution_count": 3,
   "id": "6477cc25",
   "metadata": {},
   "outputs": [
    {
     "name": "stdout",
     "output_type": "stream",
     "text": [
      "[[1. 1.]]\n"
     ]
    }
   ],
   "source": [
    "b = np.ones((1,2))   # Create an array of all ones\n",
    "print(b)"
   ]
  },
  {
   "cell_type": "code",
   "execution_count": 4,
   "id": "cff7922b",
   "metadata": {},
   "outputs": [
    {
     "name": "stdout",
     "output_type": "stream",
     "text": [
      "[[7 7]\n",
      " [7 7]]\n"
     ]
    }
   ],
   "source": [
    "c = np.full((2,2), 7) # Create a constant array\n",
    "print(c)"
   ]
  },
  {
   "cell_type": "code",
   "execution_count": 5,
   "id": "c35d4d9f",
   "metadata": {},
   "outputs": [
    {
     "name": "stdout",
     "output_type": "stream",
     "text": [
      "[[1. 0.]\n",
      " [0. 1.]]\n"
     ]
    }
   ],
   "source": [
    "d = np.eye(2)        # Create a 2x2 identity matrix\n",
    "print(d)"
   ]
  },
  {
   "cell_type": "code",
   "execution_count": 6,
   "id": "8896881f",
   "metadata": {},
   "outputs": [
    {
     "name": "stdout",
     "output_type": "stream",
     "text": [
      "[[0.20589207 0.29662295]\n",
      " [0.27986914 0.1219364 ]]\n"
     ]
    }
   ],
   "source": [
    "e = np.random.random((2,2)) # Create an array filled with random values\n",
    "print(e)"
   ]
  }
 ],
 "metadata": {
  "kernelspec": {
   "display_name": "Python 3 (ipykernel)",
   "language": "python",
   "name": "python3"
  },
  "language_info": {
   "codemirror_mode": {
    "name": "ipython",
    "version": 3
   },
   "file_extension": ".py",
   "mimetype": "text/x-python",
   "name": "python",
   "nbconvert_exporter": "python",
   "pygments_lexer": "ipython3",
   "version": "3.12.3"
  }
 },
 "nbformat": 4,
 "nbformat_minor": 5
}
