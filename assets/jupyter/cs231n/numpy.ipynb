{
 "cells": [
  {
   "cell_type": "markdown",
   "id": "9638bd95-a3d6-4bf9-9e0d-e1295f39e1e1",
   "metadata": {},
   "source": [
    "### Arrays"
   ]
  },
  {
   "cell_type": "markdown",
   "id": "31a1eacc-8432-4714-a52d-88091f22986e",
   "metadata": {},
   "source": [
    "arrays是numpy中的数组类型，某一个arrays中的所有元素的数据类型必须是相同的\n",
    "\n",
    "arrays的索引和常见的数组类似\n",
    "\n",
    "arrays还有维数dimensions和形状shape的概念，dimensions是嵌套的层数，shape则是一个整数元组表示每一个dimension的size"
   ]
  },
  {
   "cell_type": "code",
   "execution_count": null,
   "id": "09305ebe-e584-4966-8e0c-55bb4932a132",
   "metadata": {},
   "outputs": [],
   "source": [
    "import numpy as np # 导入numpy"
   ]
  },
  {
   "cell_type": "code",
   "execution_count": null,
   "id": "2fb3af32-a13e-4dc9-aa19-e7cb5525835b",
   "metadata": {},
   "outputs": [],
   "source": []
  }
 ],
 "metadata": {
  "kernelspec": {
   "display_name": "base",
   "language": "python",
   "name": "python3"
  },
  "language_info": {
   "codemirror_mode": {
    "name": "ipython",
    "version": 3
   },
   "file_extension": ".py",
   "mimetype": "text/x-python",
   "name": "python",
   "nbconvert_exporter": "python",
   "pygments_lexer": "ipython3",
   "version": "3.13.2"
  }
 },
 "nbformat": 4,
 "nbformat_minor": 5
}
