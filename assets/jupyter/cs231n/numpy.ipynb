{
 "cells": [
  {
   "cell_type": "markdown",
   "id": "9638bd95-a3d6-4bf9-9e0d-e1295f39e1e1",
   "metadata": {},
   "source": [
    "### Arrays"
   ]
  },
  {
   "cell_type": "markdown",
   "id": "31a1eacc-8432-4714-a52d-88091f22986e",
   "metadata": {},
   "source": [
    "arrays是numpy中的数组类型，某一个arrays中的所有元素的数据类型必须是相同的\n",
    "\n",
    "arrays的索引和常见的数组类似\n",
    "\n",
    "arrays还有维数dimensions和形状shape的概念，dimensions是嵌套的层数，shape则是一个整数元组表示每一个dimension的size"
   ]
  },
  {
   "cell_type": "code",
   "execution_count": 1,
   "id": "09305ebe-e584-4966-8e0c-55bb4932a132",
   "metadata": {},
   "outputs": [],
   "source": [
    "import numpy as np # 导入numpy"
   ]
  },
  {
   "cell_type": "markdown",
   "id": "21d35100",
   "metadata": {},
   "source": [
    "#### **一些创建arrays的方式**\n",
    "- 由数组创建\n",
    "- `np.zeros`和`np.ones`创建指定形状全0或全1 arrays\n",
    "- `np.full`创建指定形状的用某个数填充的arrays\n",
    "- `np.eye`创建n维的单位矩阵\n",
    "- `np.random.random`随机数矩阵"
   ]
  },
  {
   "cell_type": "code",
   "execution_count": 2,
   "id": "2fb3af32-a13e-4dc9-aa19-e7cb5525835b",
   "metadata": {},
   "outputs": [
    {
     "name": "stdout",
     "output_type": "stream",
     "text": [
      "[[0. 0.]\n",
      " [0. 0.]]\n"
     ]
    }
   ],
   "source": [
    "a = np.zeros((2,2))  # Create an array of all zeros\n",
    "print(a)"
   ]
  },
  {
   "cell_type": "code",
   "execution_count": 3,
   "id": "6477cc25",
   "metadata": {},
   "outputs": [
    {
     "name": "stdout",
     "output_type": "stream",
     "text": [
      "[[1. 1.]]\n"
     ]
    }
   ],
   "source": [
    "b = np.ones((1,2))   # Create an array of all ones\n",
    "print(b)"
   ]
  },
  {
   "cell_type": "code",
   "execution_count": 4,
   "id": "cff7922b",
   "metadata": {},
   "outputs": [
    {
     "name": "stdout",
     "output_type": "stream",
     "text": [
      "[[7 7]\n",
      " [7 7]]\n"
     ]
    }
   ],
   "source": [
    "c = np.full((2,2), 7) # Create a constant array\n",
    "print(c)"
   ]
  },
  {
   "cell_type": "code",
   "execution_count": 5,
   "id": "c35d4d9f",
   "metadata": {},
   "outputs": [
    {
     "name": "stdout",
     "output_type": "stream",
     "text": [
      "[[1. 0.]\n",
      " [0. 1.]]\n"
     ]
    }
   ],
   "source": [
    "d = np.eye(2)        # Create a 2x2 identity matrix\n",
    "print(d)"
   ]
  },
  {
   "cell_type": "code",
   "execution_count": 6,
   "id": "8896881f",
   "metadata": {},
   "outputs": [
    {
     "name": "stdout",
     "output_type": "stream",
     "text": [
      "[[0.66767551 0.81102885]\n",
      " [0.78171939 0.05546251]]\n"
     ]
    }
   ],
   "source": [
    "e = np.random.random((2,2)) # Create an array filled with random values\n",
    "print(e)"
   ]
  },
  {
   "cell_type": "markdown",
   "id": "0998ed84-587c-4947-81cb-cf71dcd39b26",
   "metadata": {},
   "source": [
    "#### **Arrays的索引访问与切片**\n",
    "- 可以通过`[INT,INT]`的方式直接访问某一个元素\n",
    "- 使用`[:,:]`对Arrays进行切片，注意要对每一个维度都进行切片操作"
   ]
  },
  {
   "cell_type": "code",
   "execution_count": 7,
   "id": "3a62d6f5-60ab-4354-a273-6e10bc62f232",
   "metadata": {},
   "outputs": [
    {
     "name": "stdout",
     "output_type": "stream",
     "text": [
      "[[2 3]\n",
      " [6 7]]\n"
     ]
    }
   ],
   "source": [
    "import numpy as np\n",
    "a = np.array([[1,2,3,4], [5,6,7,8], [9,10,11,12]])\n",
    "b = a[:2, 1:3]\n",
    "print(b)"
   ]
  },
  {
   "cell_type": "markdown",
   "id": "e5db49b8-b5c4-47c2-8819-a300d03d4031",
   "metadata": {},
   "source": [
    "注意，切片得到的新Arrays是对原始Arrays的引用，因此修改切片得到的arrays会导致原arrays中数据的改动"
   ]
  },
  {
   "cell_type": "code",
   "execution_count": 8,
   "id": "895574ca-a67b-4a57-9409-82d38f911da5",
   "metadata": {},
   "outputs": [
    {
     "name": "stdout",
     "output_type": "stream",
     "text": [
      "2\n",
      "77\n"
     ]
    }
   ],
   "source": [
    "print(a[0, 1])\n",
    "b[0, 0] = 77    # b[0, 0] is the same piece of data as a[0, 1]\n",
    "print(a[0, 1]) "
   ]
  },
  {
   "cell_type": "code",
   "execution_count": 9,
   "id": "c37d208f-a95b-4e16-b1f5-81b3ce3097d9",
   "metadata": {},
   "outputs": [
    {
     "name": "stdout",
     "output_type": "stream",
     "text": [
      "[5 6 7 8] (4,)\n",
      "[[5 6 7 8]] (1, 4)\n",
      "[[5 6 7 8]] (1, 4)\n"
     ]
    }
   ],
   "source": [
    "# 注意这三种切片方式得到的结果有所不同\n",
    "row_r1 = a[1, :]    # Rank 1 view of the second row of a  \n",
    "row_r2 = a[1:2, :]  # Rank 2 view of the second row of a\n",
    "row_r3 = a[[1], :]  # Rank 2 view of the second row of a\n",
    "print(row_r1, row_r1.shape)\n",
    "print(row_r2, row_r2.shape)\n",
    "print(row_r3, row_r3.shape)"
   ]
  },
  {
   "cell_type": "markdown",
   "id": "e27c3b14-6e5d-4e8f-882e-7ec69548f2a0",
   "metadata": {},
   "source": [
    "也可以使用整数list的方式对arrays进行切片"
   ]
  },
  {
   "cell_type": "code",
   "execution_count": 10,
   "id": "bfda7463-d669-43cb-880f-8237c3b783fe",
   "metadata": {},
   "outputs": [
    {
     "name": "stdout",
     "output_type": "stream",
     "text": [
      "[1 4 5]\n",
      "[1 4 5]\n"
     ]
    }
   ],
   "source": [
    "a = np.array([[1,2], [3, 4], [5, 6]])\n",
    "\n",
    "# An example of integer array indexing.\n",
    "# The returned array will have shape (3,) and \n",
    "print(a[[0, 1, 2], [0, 1, 0]])\n",
    "\n",
    "# The above example of integer array indexing is equivalent to this:\n",
    "print(np.array([a[0, 0], a[1, 1], a[2, 0]]))"
   ]
  },
  {
   "cell_type": "markdown",
   "id": "23c8337c-ae85-441b-921d-3d1a598a882b",
   "metadata": {},
   "source": [
    "我们可以通过整数列表切片的方式，方便的提取或者修改一个arrays中的某些特定元素"
   ]
  },
  {
   "cell_type": "code",
   "execution_count": 11,
   "id": "152ff02e-cc2f-4e4b-be05-fee992ff16f3",
   "metadata": {},
   "outputs": [
    {
     "name": "stdout",
     "output_type": "stream",
     "text": [
      "[[ 1  2  3]\n",
      " [ 4  5  6]\n",
      " [ 7  8  9]\n",
      " [10 11 12]]\n",
      "[ 1  6  7 11]\n",
      "[[11  2  3]\n",
      " [ 4  5 16]\n",
      " [17  8  9]\n",
      " [10 21 12]]\n"
     ]
    }
   ],
   "source": [
    "a = np.array([[1,2,3], [4,5,6], [7,8,9], [10, 11, 12]])\n",
    "print(a)\n",
    "# Create an array of indices\n",
    "b = np.array([0, 2, 0, 1])\n",
    "# Select one element from each row of a using the indices in b\n",
    "print(a[np.arange(4), b])  # Prints \"[ 1  6  7 11]\"\n",
    "# Mutate one element from each row of a using the indices in b\n",
    "a[np.arange(4), b] += 10\n",
    "print(a)"
   ]
  },
  {
   "cell_type": "markdown",
   "id": "3e17098a-ed43-4665-84f9-33a7e0ea79c3",
   "metadata": {},
   "source": [
    "bool类型的arrays也可以作为索引从arrays中提取元素，会返回一个一维的arrays"
   ]
  },
  {
   "cell_type": "code",
   "execution_count": 12,
   "id": "1b3e5d4a-903d-4ecd-bbbe-5f4b95de03e0",
   "metadata": {},
   "outputs": [
    {
     "name": "stdout",
     "output_type": "stream",
     "text": [
      "[[False False]\n",
      " [ True  True]\n",
      " [ True  True]]\n",
      "[3 4 5 6]\n",
      "[3 4 5 6]\n"
     ]
    }
   ],
   "source": [
    "import numpy as np\n",
    "\n",
    "a = np.array([[1,2], [3, 4], [5, 6]])\n",
    "\n",
    "bool_idx = (a > 2)  # Find the elements of a that are bigger than 2;\n",
    "                    # this returns a numpy array of Booleans of the same\n",
    "                    # shape as a, where each slot of bool_idx tells\n",
    "                    # whether that element of a is > 2.\n",
    "\n",
    "print(bool_idx)\n",
    "\n",
    "# We use boolean array indexing to construct a rank 1 array\n",
    "# consisting of the elements of a corresponding to the True values\n",
    "# of bool_idx\n",
    "print(a[bool_idx])\n",
    "\n",
    "# We can do all of the above in a single concise statement:\n",
    "print(a[a > 2])"
   ]
  },
  {
   "cell_type": "markdown",
   "id": "c3103060-a71a-4743-85c3-5a2caf23e756",
   "metadata": {},
   "source": [
    "#### **Arrays的数据类型**"
   ]
  },
  {
   "cell_type": "markdown",
   "id": "84bb73f9-753d-49fb-9822-7050fcfd6613",
   "metadata": {},
   "source": [
    "在numpy的Arrays中，每个元素的数据类型必须是相同的；\n",
    "\n",
    "在用list创建Arrays时，numpy会猜测一个合理的数据类型\n",
    "\n",
    "我们也可以使用`dtype=`的参数指定数据类型"
   ]
  },
  {
   "cell_type": "code",
   "execution_count": 13,
   "id": "2928d509-7b09-4bff-9c35-22a53769461d",
   "metadata": {},
   "outputs": [
    {
     "name": "stdout",
     "output_type": "stream",
     "text": [
      "int64 float64 int64\n"
     ]
    }
   ],
   "source": [
    "x = np.array([1, 2])  # Let numpy choose the datatype\n",
    "y = np.array([1.0, 2.0])  # Let numpy choose the datatype\n",
    "z = np.array([1, 2], dtype=np.int64)  # Force a particular datatype\n",
    "\n",
    "print(x.dtype, y.dtype, z.dtype)"
   ]
  },
  {
   "cell_type": "markdown",
   "id": "8b9bd2ca-b907-4966-a782-82c4b7a54035",
   "metadata": {},
   "source": [
    "#### **numpy中的数学运算**"
   ]
  },
  {
   "cell_type": "code",
   "execution_count": 14,
   "id": "36970deb-1566-4fda-9b2e-94f42a484c9f",
   "metadata": {},
   "outputs": [
    {
     "name": "stdout",
     "output_type": "stream",
     "text": [
      "[[ 6.  8.]\n",
      " [10. 12.]]\n",
      "[[ 6.  8.]\n",
      " [10. 12.]]\n"
     ]
    }
   ],
   "source": [
    "import numpy as np\n",
    "\n",
    "x = np.array([[1,2],[3,4]], dtype=np.float64)\n",
    "y = np.array([[5,6],[7,8]], dtype=np.float64)\n",
    "\n",
    "# Elementwise sum; both produce the array\n",
    "print(x + y)\n",
    "print(np.add(x, y))"
   ]
  },
  {
   "cell_type": "code",
   "execution_count": 15,
   "id": "42e4cfd4-bfd6-4c72-a079-3f2755a9b1cb",
   "metadata": {},
   "outputs": [
    {
     "name": "stdout",
     "output_type": "stream",
     "text": [
      "[[-4. -4.]\n",
      " [-4. -4.]]\n",
      "[[-4. -4.]\n",
      " [-4. -4.]]\n"
     ]
    }
   ],
   "source": [
    "# Elementwise difference; both produce the array\n",
    "print(x - y)\n",
    "print(np.subtract(x, y))"
   ]
  },
  {
   "cell_type": "code",
   "execution_count": 16,
   "id": "b24a61fe-3a8f-4200-b13e-8616cc8af7f1",
   "metadata": {},
   "outputs": [
    {
     "name": "stdout",
     "output_type": "stream",
     "text": [
      "[[ 5. 12.]\n",
      " [21. 32.]]\n",
      "[[ 5. 12.]\n",
      " [21. 32.]]\n"
     ]
    }
   ],
   "source": [
    "# Elementwise product; both produce the array\n",
    "print(x * y)\n",
    "print(np.multiply(x, y))"
   ]
  },
  {
   "cell_type": "code",
   "execution_count": 17,
   "id": "ff52da6f-6955-4a0b-8643-02fa56c16de5",
   "metadata": {},
   "outputs": [
    {
     "name": "stdout",
     "output_type": "stream",
     "text": [
      "[[0.2        0.33333333]\n",
      " [0.42857143 0.5       ]]\n",
      "[[0.2        0.33333333]\n",
      " [0.42857143 0.5       ]]\n"
     ]
    }
   ],
   "source": [
    "# Elementwise division; both produce the array\n",
    "# [[ 0.2         0.33333333]\n",
    "#  [ 0.42857143  0.5       ]]\n",
    "print(x / y)\n",
    "print(np.divide(x, y))"
   ]
  },
  {
   "cell_type": "code",
   "execution_count": 18,
   "id": "4e68ba52-2589-4bd7-94e1-68733cae5282",
   "metadata": {},
   "outputs": [
    {
     "name": "stdout",
     "output_type": "stream",
     "text": [
      "[[1.         1.41421356]\n",
      " [1.73205081 2.        ]]\n"
     ]
    }
   ],
   "source": [
    "# Elementwise square root; produces the array\n",
    "# [[ 1.          1.41421356]\n",
    "#  [ 1.73205081  2.        ]]\n",
    "print(np.sqrt(x))"
   ]
  },
  {
   "cell_type": "markdown",
   "id": "2d66dd25-2efe-4d48-9edd-57da58be70d5",
   "metadata": {},
   "source": [
    "对于矩阵的点乘和矩阵乘法运算，我们通过`dot`方法和`@`来实现"
   ]
  },
  {
   "cell_type": "code",
   "execution_count": 19,
   "id": "6e26aec2-eef1-4572-a498-3a994b835e5c",
   "metadata": {},
   "outputs": [
    {
     "name": "stdout",
     "output_type": "stream",
     "text": [
      "219\n",
      "219\n"
     ]
    }
   ],
   "source": [
    "x = np.array([[1,2],[3,4]])\n",
    "y = np.array([[5,6],[7,8]])\n",
    "\n",
    "v = np.array([9,10])\n",
    "w = np.array([11, 12])\n",
    "\n",
    "# Inner product of vectors; both produce 219\n",
    "print(v.dot(w))\n",
    "print(np.dot(v, w))"
   ]
  },
  {
   "cell_type": "code",
   "execution_count": 20,
   "id": "284f2089-ef73-4f31-bfe3-c4d6a05f0507",
   "metadata": {},
   "outputs": [
    {
     "name": "stdout",
     "output_type": "stream",
     "text": [
      "219\n"
     ]
    }
   ],
   "source": [
    "print(v @ w)"
   ]
  },
  {
   "cell_type": "code",
   "execution_count": 21,
   "id": "ff64bbee-c4e0-4f8e-ba78-402d42a88eff",
   "metadata": {},
   "outputs": [
    {
     "name": "stdout",
     "output_type": "stream",
     "text": [
      "[29 67]\n",
      "[29 67]\n",
      "[29 67]\n"
     ]
    }
   ],
   "source": [
    "# Matrix / vector product; both produce the rank 1 array [29 67]\n",
    "print(x.dot(v))\n",
    "print(np.dot(x, v))\n",
    "print(x @ v)"
   ]
  },
  {
   "cell_type": "markdown",
   "id": "6257249c-d0df-4571-b2cd-d2c0dc3ce662",
   "metadata": {},
   "source": [
    "numpy中还内置了许多常见的数学函数，可以参考[文档](http://docs.scipy.org/doc/numpy/reference/routines.math.html)"
   ]
  },
  {
   "cell_type": "markdown",
   "id": "4b49fc4b-f47e-4608-9ee4-041bda8cb016",
   "metadata": {},
   "source": [
    "#### **广播机制**"
   ]
  },
  {
   "cell_type": "markdown",
   "id": "16143773-9db6-44e2-80dc-a5563cec4445",
   "metadata": {},
   "source": [
    "广播机制可以将不同大小的arrays进行操作\n",
    "\n",
    "比如我们想在某个矩阵的每一行中加上一个向量，通常的做法是这样的"
   ]
  },
  {
   "cell_type": "code",
   "execution_count": 22,
   "id": "73b3bb9a-47b8-46e6-a0cd-829474235466",
   "metadata": {},
   "outputs": [
    {
     "name": "stdout",
     "output_type": "stream",
     "text": [
      "[[ 2  2  4]\n",
      " [ 5  5  7]\n",
      " [ 8  8 10]\n",
      " [11 11 13]]\n"
     ]
    }
   ],
   "source": [
    "# We will add the vector v to each row of the matrix x,\n",
    "# storing the result in the matrix y\n",
    "x = np.array([[1,2,3], [4,5,6], [7,8,9], [10, 11, 12]])\n",
    "v = np.array([1, 0, 1])\n",
    "y = np.empty_like(x)   # Create an empty matrix with the same shape as x\n",
    "\n",
    "# Add the vector v to each row of the matrix x with an explicit loop\n",
    "for i in range(4):\n",
    "    y[i, :] = x[i, :] + v\n",
    "\n",
    "print(y)"
   ]
  },
  {
   "cell_type": "markdown",
   "id": "b44a9a74-4c34-48de-8ece-968558aaa12c",
   "metadata": {},
   "source": [
    "这样的循环在处理大的数据时是十分低效的，另一种方法是"
   ]
  },
  {
   "cell_type": "code",
   "execution_count": 23,
   "id": "53547782-6b09-4325-a289-f00e6534bb08",
   "metadata": {},
   "outputs": [
    {
     "name": "stdout",
     "output_type": "stream",
     "text": [
      "[[1 0 1]\n",
      " [1 0 1]\n",
      " [1 0 1]\n",
      " [1 0 1]]\n",
      "[[ 2  2  4]\n",
      " [ 5  5  7]\n",
      " [ 8  8 10]\n",
      " [11 11 13]]\n"
     ]
    }
   ],
   "source": [
    "vv = np.tile(v, (4, 1))  # Stack 4 copies of v on top of each other\n",
    "print(vv)   \n",
    "y = x + vv  # Add x and vv elementwise\n",
    "print(y)"
   ]
  },
  {
   "cell_type": "markdown",
   "id": "d438cc40-e99d-4490-98e1-d804987b53b7",
   "metadata": {},
   "source": [
    "但是高效的广播机制允许我们直接将他们进行相加"
   ]
  },
  {
   "cell_type": "code",
   "execution_count": 24,
   "id": "55800d02-dc3c-45ba-93f6-de466335798e",
   "metadata": {},
   "outputs": [
    {
     "name": "stdout",
     "output_type": "stream",
     "text": [
      "[[ 2  2  4]\n",
      " [ 5  5  7]\n",
      " [ 8  8 10]\n",
      " [11 11 13]]\n"
     ]
    }
   ],
   "source": [
    "import numpy as np\n",
    "\n",
    "# We will add the vector v to each row of the matrix x,\n",
    "# storing the result in the matrix y\n",
    "x = np.array([[1,2,3], [4,5,6], [7,8,9], [10, 11, 12]])\n",
    "v = np.array([1, 0, 1])\n",
    "y = x + v  # Add v to each row of x using broadcasting\n",
    "print(y)"
   ]
  },
  {
   "cell_type": "markdown",
   "id": "f22b728b-b051-4c61-a7e4-c48cc8388fd3",
   "metadata": {},
   "source": [
    "**总结：广播的核心逻辑**\n",
    "- 当两个数组的维度数量不同时，NumPy 会自动为维度较少的数组前面（左侧）补 1，直到两个数组的维度数量相同；\n",
    "- 再检查各维度是否满足 “相等或其中一个为 1”；\n",
    "- 满足则拉伸维度为 1 的轴，最终结果形状为各维度最大值。"
   ]
  },
  {
   "cell_type": "markdown",
   "id": "cdb3fa67-40b1-43f5-8e9c-d69c6bd4dfe8",
   "metadata": {},
   "source": [
    "#### **Matplotlib**"
   ]
  },
  {
   "cell_type": "markdown",
   "id": "89cddea7-ee63-4f60-8e93-548d9a8ad78b",
   "metadata": {},
   "source": [
    "Matplotlib是一个绘图工具，下来介绍`matplotlib.pyplot`模块"
   ]
  },
  {
   "cell_type": "code",
   "execution_count": 25,
   "id": "ba1e9bee-22e7-48b7-a66d-e8ff852d6a11",
   "metadata": {},
   "outputs": [],
   "source": [
    "import matplotlib.pyplot as plt"
   ]
  },
  {
   "cell_type": "markdown",
   "id": "5577270a-b6c1-4c33-90ba-410943ae4e51",
   "metadata": {},
   "source": [
    "plotting是matplotlib中最重要的功能，其可以用来绘制二维数据表格"
   ]
  },
  {
   "cell_type": "code",
   "execution_count": 26,
   "id": "4575e4d4-58da-4495-9fcd-205c801d4b01",
   "metadata": {},
   "outputs": [
    {
     "data": {
      "text/plain": [
       "[<matplotlib.lines.Line2D at 0x16d23c18550>]"
      ]
     },
     "execution_count": 26,
     "metadata": {},
     "output_type": "execute_result"
    },
    {
     "data": {
      "image/png": "[encoded data removed]",
      "text/plain": [
       "<Figure size 640x480 with 1 Axes>"
      ]
     },
     "metadata": {},
     "output_type": "display_data"
    }
   ],
   "source": [
    "# Compute the x and y coordinates for points on a sine curve\n",
    "x = np.arange(0, 3 * np.pi, 0.1)\n",
    "y = np.sin(x)\n",
    "\n",
    "# Plot the points using matplotlib\n",
    "plt.plot(x, y)"
   ]
  },
  {
   "cell_type": "markdown",
   "id": "f5dad6de-fc95-4371-978e-815108170cbe",
   "metadata": {},
   "source": [
    "我们可以在同一个图上绘制不同的函数，并加上标题和标签"
   ]
  },
  {
   "cell_type": "code",
   "execution_count": 27,
   "id": "4e2dcf11-2bac-4211-9bf3-c8da5d0b47cb",
   "metadata": {},
   "outputs": [
    {
     "data": {
      "text/plain": [
       "<matplotlib.legend.Legend at 0x16d23c12cf0>"
      ]
     },
     "execution_count": 27,
     "metadata": {},
     "output_type": "execute_result"
    },
    {
     "data": {
      "image/png": "[encoded data removed]",
      "text/plain": [
       "<Figure size 640x480 with 1 Axes>"
      ]
     },
     "metadata": {},
     "output_type": "display_data"
    }
   ],
   "source": [
    "y_sin = np.sin(x)\n",
    "y_cos = np.cos(x)\n",
    "\n",
    "# Plot the points using matplotlib\n",
    "plt.plot(x, y_sin)\n",
    "plt.plot(x, y_cos)\n",
    "plt.xlabel('x axis label')\n",
    "plt.ylabel('y axis label')\n",
    "plt.title('Sine and Cosine')\n",
    "plt.legend(['Sine', 'Cosine'])"
   ]
  },
  {
   "cell_type": "markdown",
   "id": "99e5c07d-b34a-4a93-8a26-eb4947a438a0",
   "metadata": {},
   "source": [
    "我们也可以绘制不同的子图，将数据分别呈现"
   ]
  },
  {
   "cell_type": "code",
   "execution_count": 28,
   "id": "1fa589b7-67de-473e-937b-efa1e68170d2",
   "metadata": {},
   "outputs": [
    {
     "data": {
      "image/png": "[encoded data removed]",
      "text/plain": [
       "<Figure size 640x480 with 2 Axes>"
      ]
     },
     "metadata": {},
     "output_type": "display_data"
    }
   ],
   "source": [
    "# Compute the x and y coordinates for points on sine and cosine curves\n",
    "x = np.arange(0, 3 * np.pi, 0.1)\n",
    "y_sin = np.sin(x)\n",
    "y_cos = np.cos(x)\n",
    "\n",
    "# Set up a subplot grid that has height 2 and width 1,\n",
    "# and set the first such subplot as active.\n",
    "plt.subplot(2, 1, 1)\n",
    "\n",
    "# Make the first plot\n",
    "plt.plot(x, y_sin)\n",
    "plt.title('Sine')\n",
    "\n",
    "# Set the second subplot as active, and make the second plot.\n",
    "plt.subplot(2, 1, 2)\n",
    "plt.plot(x, y_cos)\n",
    "plt.title('Cosine')\n",
    "\n",
    "# Show the figure.\n",
    "plt.show()"
   ]
  }
 ],
 "metadata": {
  "kernelspec": {
   "display_name": "Python 3 (ipykernel)",
   "language": "python",
   "name": "python3"
  },
  "language_info": {
   "codemirror_mode": {
    "name": "ipython",
    "version": 3
   },
   "file_extension": ".py",
   "mimetype": "text/x-python",
   "name": "python",
   "nbconvert_exporter": "python",
   "pygments_lexer": "ipython3",
   "version": "3.13.2"
  }
 },
 "nbformat": 4,
 "nbformat_minor": 5
}
